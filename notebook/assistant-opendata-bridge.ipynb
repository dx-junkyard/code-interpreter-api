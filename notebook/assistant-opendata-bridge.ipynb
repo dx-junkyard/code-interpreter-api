{
 "cells": [
  {
   "cell_type": "code",
   "execution_count": 1,
   "metadata": {
    "ExecuteTime": {
     "end_time": "2024-02-08T13:38:40.547414Z",
     "start_time": "2024-02-08T13:38:40.200547Z"
    }
   },
   "outputs": [],
   "source": [
    "import io\n",
    "import os\n",
    "import time\n",
    "from datetime import datetime\n",
    "from typing import Iterable\n",
    "\n",
    "from dotenv import load_dotenv\n",
    "from openai import AzureOpenAI\n",
    "from openai.types.beta.threads.message_content_image_file import MessageContentImageFile\n",
    "from openai.types.beta.threads.message_content_text import MessageContentText\n",
    "from openai.types.beta.threads.messages import MessageFile\n",
    "from PIL import Image"
   ]
  },
  {
   "cell_type": "code",
   "execution_count": 2,
   "metadata": {
    "ExecuteTime": {
     "end_time": "2024-02-08T13:38:42.457408Z",
     "start_time": "2024-02-08T13:38:42.449134Z"
    }
   },
   "outputs": [],
   "source": [
    "load_dotenv()\n",
    "api_endpoint = os.getenv(\"OPENAI_URI\")\n",
    "api_key = os.getenv(\"OPENAI_KEY\")\n",
    "api_version = os.getenv(\"OPENAI_VERSION\")\n",
    "api_deployment_name = os.getenv(\"OPENAI_GPT_DEPLOYMENT\")"
   ]
  },
  {
   "cell_type": "code",
   "execution_count": 3,
   "metadata": {
    "ExecuteTime": {
     "end_time": "2024-02-08T13:38:44.652550Z",
     "start_time": "2024-02-08T13:38:44.639730Z"
    }
   },
   "outputs": [],
   "source": [
    "client = AzureOpenAI(api_key=api_key, api_version=api_version, azure_endpoint=api_endpoint)"
   ]
  },
  {
   "cell_type": "code",
   "execution_count": 4,
   "metadata": {
    "ExecuteTime": {
     "end_time": "2024-02-08T13:38:47.849716Z",
     "start_time": "2024-02-08T13:38:46.353560Z"
    }
   },
   "outputs": [],
   "source": [
    "assistant = client.beta.assistants.create(\n",
    "    name=\"Opendata Bridge\",\n",
    "    instructions=\"You are a specialist in extracting tables from various files such as PDF/Excel/csv and converting them into csv files.\",\n",
    "    tools=[{\"type\": \"code_interpreter\"}],\n",
    "    model=api_deployment_name,\n",
    ")\n",
    "\n",
    "thread = client.beta.threads.create()"
   ]
  },
  {
   "cell_type": "code",
   "execution_count": 5,
   "metadata": {
    "ExecuteTime": {
     "end_time": "2024-02-08T13:38:49.138502Z",
     "start_time": "2024-02-08T13:38:49.135237Z"
    }
   },
   "outputs": [],
   "source": [
    "def format_messages(messages: Iterable[MessageFile]) -> None:\n",
    "    message_list = []\n",
    "\n",
    "    # Get all the messages till the last user message\n",
    "    for message in messages:\n",
    "        message_list.append(message)\n",
    "        if message.role == \"user\":\n",
    "            break\n",
    "\n",
    "    # Reverse the messages to show the last user message first\n",
    "    message_list.reverse()\n",
    "\n",
    "    # Print the user or Assistant messages or images\n",
    "    for message in message_list:\n",
    "        for item in message.content:\n",
    "            # Determine the content type\n",
    "            if isinstance(item, MessageContentText):\n",
    "                print(f\"{message.role}:\\n{item.text.value}\\n\")\n",
    "\n",
    "                if (len(item.text.annotations) > 0) and (item.text.annotations[0].file_path.file_id is not None):\n",
    "                    # Retrieve file from file id\n",
    "                    response_content = client.files.content(item.text.annotations[0].file_path.file_id)\n",
    "                    data_in_bytes = response_content.read()\n",
    "                    # Convert bytes to file\n",
    "                    with open(\"output\", \"wb\") as file:\n",
    "                        file.write(data_in_bytes)\n",
    "\n",
    "            elif isinstance(item, MessageContentImageFile):\n",
    "                # Retrieve image from file id\n",
    "                response_content = client.files.content(item.image_file.file_id)\n",
    "                data_in_bytes = response_content.read()\n",
    "                # Convert bytes to image\n",
    "                readable_buffer = io.BytesIO(data_in_bytes)\n",
    "                image = Image.open(readable_buffer)\n",
    "                # Resize image to fit in terminal\n",
    "                width, height = image.size\n",
    "                image = image.resize((width // 2, height // 2), Image.LANCZOS)\n",
    "                # Display image\n",
    "                image.show()"
   ]
  },
  {
   "cell_type": "code",
   "execution_count": 6,
   "metadata": {
    "ExecuteTime": {
     "end_time": "2024-02-08T13:38:54.004456Z",
     "start_time": "2024-02-08T13:38:54.002067Z"
    }
   },
   "outputs": [],
   "source": [
    "def process_message(content: str, filename: str) -> None:\n",
    "\n",
    "    file = None\n",
    "\n",
    "    if filename:\n",
    "        file = client.files.create(\n",
    "            file=open(filename, \"rb\"),\n",
    "            purpose='assistants'\n",
    "        )\n",
    "\n",
    "    client.beta.threads.messages.create(thread_id=thread.id, role=\"user\", content=content, file_ids=[file.id] if file else None)\n",
    "    \n",
    "    run = client.beta.threads.runs.create(\n",
    "        thread_id=thread.id,\n",
    "        assistant_id=assistant.id,\n",
    "        instructions=\"Please address the user as Jane Doe. The user has a premium account. Be assertive, accurate, and polite. Ask if the user has further questions. \"\n",
    "        + \"The current date and time is: \"\n",
    "        + datetime.now().strftime(\"%x %X\")\n",
    "        + \". \",\n",
    "    )\n",
    "    print(\"processing ...\")\n",
    "    while True:\n",
    "        run = client.beta.threads.runs.retrieve(thread_id=thread.id, run_id=run.id)\n",
    "        if run.status == \"completed\":\n",
    "            # Handle completed\n",
    "            messages = client.beta.threads.messages.list(thread_id=thread.id)\n",
    "            format_messages(messages)\n",
    "            break\n",
    "        if run.status == \"failed\":\n",
    "            messages = client.beta.threads.messages.list(thread_id=thread.id)\n",
    "            answer = messages.data[0].content[0].text.value\n",
    "            print(f\"Failed User:\\n{content}\\nAssistant:\\n{answer}\\n\")\n",
    "            # Handle failed\n",
    "            break\n",
    "        if run.status == \"expired\":\n",
    "            # Handle expired\n",
    "            print(run)\n",
    "            break\n",
    "        if run.status == \"cancelled\":\n",
    "            # Handle cancelled\n",
    "            print(run)\n",
    "            break\n",
    "        if run.status == \"requires_action\":\n",
    "            # Handle function calling and continue processing\n",
    "            pass\n",
    "        else:\n",
    "            time.sleep(5)"
   ]
  },
  {
   "cell_type": "code",
   "execution_count": 9,
   "metadata": {
    "ExecuteTime": {
     "end_time": "2024-02-08T13:40:57.969370Z",
     "start_time": "2024-02-08T13:40:20.147704Z"
    }
   },
   "outputs": [
    {
     "name": "stdout",
     "output_type": "stream",
     "text": [
      "processing ...\n",
      "user:\n",
      "入力したcsvファイルの内容を読み取ってください。\n",
      "                読み取ったあとは「日付」という列を追加してください。\n",
      "                日付には本日の日付を値にしてください。\n",
      "                最後に編集後のデータをcsvファイルで出力してください。\n",
      "                \n",
      "\n",
      "assistant:\n",
      "Jane Doe様、\n",
      "\n",
      "ご指示通りにcsvファイルを編集しました。新たに「日付」列を追加し、今日の日付をこの列に設定いたしました。編集後のcsvファイルは以下のリンクからダウンロードいただけます。\n",
      "\n",
      "[編集後のcsvファイル](sandbox:/mnt/data/edited_file.csv)\n",
      "\n",
      "上記のリンクがご利用いただけることを確認し、何か他にご質問がありましたら、お知らせください。\n"
     ]
    }
   ],
   "source": [
    "filename = \"tokyo_evacuation_site.csv\"\n",
    "process_message(\"\"\"入力したcsvファイルの内容を読み取ってください。\n",
    "                読み取ったあとは「日付」という列を追加してください。\n",
    "                日付には本日の日付を値にしてください。\n",
    "                最後に編集後のデータをcsvファイルで出力してください。\n",
    "                \"\"\", filename)"
   ]
  },
  {
   "cell_type": "code",
   "execution_count": 10,
   "metadata": {
    "ExecuteTime": {
     "end_time": "2024-02-08T13:41:26.977356Z",
     "start_time": "2024-02-08T13:41:25.339834Z"
    }
   },
   "outputs": [
    {
     "data": {
      "text/plain": "ThreadDeleted(id='thread_4lCvd5IKemrhB4IBJXMCfu6Q', deleted=True, object='thread.deleted')"
     },
     "execution_count": 10,
     "metadata": {},
     "output_type": "execute_result"
    }
   ],
   "source": [
    "client.beta.assistants.delete(assistant.id)\n",
    "client.beta.threads.delete(thread.id)"
   ]
  }
 ],
 "metadata": {
  "kernelspec": {
   "display_name": ".venv",
   "language": "python",
   "name": "python3"
  },
  "language_info": {
   "codemirror_mode": {
    "name": "ipython",
    "version": 3
   },
   "file_extension": ".py",
   "mimetype": "text/x-python",
   "name": "python",
   "nbconvert_exporter": "python",
   "pygments_lexer": "ipython3",
   "version": "3.12.1"
  }
 },
 "nbformat": 4,
 "nbformat_minor": 2
}
