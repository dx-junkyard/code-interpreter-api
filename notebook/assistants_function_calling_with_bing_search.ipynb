{
 "cells": [
  {
   "cell_type": "markdown",
   "metadata": {},
   "source": [
    "# Assistants function calling with Bing Search\n",
    "In this notebook, we'll show how you can use the [Bing Search APIs](https://www.microsoft.com/bing/apis/llm) and [function calling](https://learn.microsoft.com/azure/ai-services/openai/how-to/function-calling?tabs=python) to ground Azure OpenAI models on data from the web. This is a great way to give the model access to up to date data from the web.\n",
    "\n",
    "You'll need to create a [Bing Search resource](https://learn.microsoft.com/en-us/bing/search-apis/bing-web-search/create-bing-search-service-resource) before you begin."
   ]
  },
  {
   "cell_type": "markdown",
   "metadata": {},
   "source": [
    "### Time\n",
    "\n",
    "You should expect to spend 10 minutes running this sample."
   ]
  },
  {
   "cell_type": "markdown",
   "metadata": {},
   "source": [
    "### Before you begin\n",
    "#### Installation\n",
    "The following packages are required to execute this notebook."
   ]
  },
  {
   "cell_type": "markdown",
   "metadata": {},
   "source": [
    "### Parameters\n",
    "Update the following config to include details of your Azure OpenAI and Bing Search resources"
   ]
  },
  {
   "cell_type": "code",
   "execution_count": 3,
   "metadata": {
    "ExecuteTime": {
     "end_time": "2024-02-12T01:18:19.151748Z",
     "start_time": "2024-02-12T01:18:19.148192Z"
    }
   },
   "outputs": [],
   "source": [
    "import os\n",
    "\n",
    "from dotenv import load_dotenv\n",
    "\n",
    "load_dotenv()\n",
    "api_endpoint = os.getenv(\"OPENAI_URI\")\n",
    "api_key = os.getenv(\"OPENAI_KEY\")\n",
    "api_version = os.getenv(\"OPENAI_VERSION\")\n",
    "api_deployment_name = os.getenv(\"OPENAI_GPT_DEPLOYMENT\")"
   ]
  },
  {
   "cell_type": "markdown",
   "metadata": {},
   "source": [
    "### Define a function to call the Bing Search APIs\n",
    "To learn more about using the Bing Search APIs with Azure OpenAI, see [Bing Search APIs, with your LLM](https://learn.microsoft.com/bing/search-apis/bing-web-search/use-display-requirements-llm)."
   ]
  },
  {
   "cell_type": "code",
   "execution_count": 11,
   "metadata": {
    "ExecuteTime": {
     "end_time": "2024-02-12T01:24:28.109007Z",
     "start_time": "2024-02-12T01:24:28.105021Z"
    }
   },
   "outputs": [],
   "source": [
    "import json\n",
    "import time\n",
    "\n",
    "from openai import AzureOpenAI\n",
    "from pathlib import Path\n",
    "from typing import Optional\n",
    "\n",
    "\n",
    "def search(query: str) -> str:\n",
    "    \"\"\"\n",
    "    Perform a bing search against the given query\n",
    "\n",
    "    @param query: Search query\n",
    "    @return: List of search results\n",
    "\n",
    "    \"\"\"\n",
    "\n",
    "    return json.dumps({\n",
    "        \"title\": \"2032 Summer Olympics | wikipedia\", \n",
    "        \"link\": \"https://en.wikipedia.org/wiki/2032_Summer_Olympics\", \n",
    "        \"snippet\": \"The 2032 Summer Olympics, officially known as the Games of the XXXV Olympiad and also known as Brisbane 2032 is an upcoming international multi-sport event...\"})"
   ]
  },
  {
   "cell_type": "code",
   "execution_count": 12,
   "metadata": {
    "ExecuteTime": {
     "end_time": "2024-02-12T01:24:30.918307Z",
     "start_time": "2024-02-12T01:24:30.898089Z"
    }
   },
   "outputs": [
    {
     "data": {
      "text/plain": "'{\"title\": \"2032 Summer Olympics | wikipedia\", \"link\": \"https://en.wikipedia.org/wiki/2032_Summer_Olympics\", \"snippet\": \"The 2032 Summer Olympics, officially known as the Games of the XXXV Olympiad and also known as Brisbane 2032 is an upcoming international multi-sport event...\"}'"
     },
     "execution_count": 12,
     "metadata": {},
     "output_type": "execute_result"
    }
   ],
   "source": [
    "search(\"where will the 2032 olympics be held?\")"
   ]
  },
  {
   "cell_type": "markdown",
   "metadata": {},
   "source": [
    "### Get things running end to end\n",
    "In the following cells, we will define some functions essential for assistants with function calling. All these functions come together in our final cell, where we will define a new web search assistant, give it instructions on its functionality and ask a question."
   ]
  },
  {
   "cell_type": "code",
   "execution_count": 7,
   "metadata": {
    "ExecuteTime": {
     "end_time": "2024-02-12T01:22:22.696668Z",
     "start_time": "2024-02-12T01:22:22.687910Z"
    }
   },
   "outputs": [],
   "source": [
    "def poll_run_till_completion(\n",
    "        client: AzureOpenAI,\n",
    "        thread_id: str,\n",
    "        run_id: str,\n",
    "        available_functions: dict,\n",
    "        verbose: bool,\n",
    "        max_steps: int = 10,\n",
    "        wait: int = 3,\n",
    ") -> None:\n",
    "    \"\"\"\n",
    "    Poll a run until it is completed or failed or exceeds a certain number of iterations (MAX_STEPS)\n",
    "    with a preset wait in between polls\n",
    "\n",
    "    @param client: OpenAI client\n",
    "    @param thread_id: Thread ID\n",
    "    @param run_id: Run ID\n",
    "    @param assistant_id: Assistant ID\n",
    "    @param verbose: Print verbose output\n",
    "    @param max_steps: Maximum number of steps to poll\n",
    "    @param wait: Wait time in seconds between polls\n",
    "\n",
    "    \"\"\"\n",
    "\n",
    "    if (client is None and thread_id is None) or run_id is None:\n",
    "        print(\"Client, Thread ID and Run ID are required.\")\n",
    "        return\n",
    "    try:\n",
    "        cnt = 0\n",
    "        while cnt < max_steps:\n",
    "            run = client.beta.threads.runs.retrieve(thread_id=thread_id, run_id=run_id)\n",
    "            if verbose:\n",
    "                print(\"Poll {}: {}\".format(cnt, run.status))\n",
    "            cnt += 1\n",
    "            if run.status == \"requires_action\":\n",
    "                tool_responses = []\n",
    "                if (\n",
    "                        run.required_action.type == \"submit_tool_outputs\"\n",
    "                        and run.required_action.submit_tool_outputs.tool_calls is not None\n",
    "                ):\n",
    "                    tool_calls = run.required_action.submit_tool_outputs.tool_calls\n",
    "\n",
    "                    for call in tool_calls:\n",
    "                        if call.type == \"function\":\n",
    "                            if call.function.name not in available_functions:\n",
    "                                raise Exception(\"Function requested by the model does not exist\")\n",
    "                            function_to_call = available_functions[call.function.name]\n",
    "                            tool_response = function_to_call(**json.loads(call.function.arguments))\n",
    "                            tool_responses.append({\"tool_call_id\": call.id, \"output\": tool_response})\n",
    "\n",
    "                run = client.beta.threads.runs.submit_tool_outputs(\n",
    "                    thread_id=thread_id, run_id=run.id, tool_outputs=tool_responses\n",
    "                )\n",
    "            if run.status == \"failed\":\n",
    "                print(\"Run failed.\")\n",
    "                break\n",
    "            if run.status == \"completed\":\n",
    "                break\n",
    "            time.sleep(wait)\n",
    "\n",
    "    except Exception as e:\n",
    "        print(e)"
   ]
  },
  {
   "cell_type": "code",
   "execution_count": 8,
   "metadata": {
    "ExecuteTime": {
     "end_time": "2024-02-12T01:22:24.520156Z",
     "start_time": "2024-02-12T01:22:24.504527Z"
    }
   },
   "outputs": [],
   "source": [
    "def create_message(\n",
    "        client: AzureOpenAI,\n",
    "        thread_id: str,\n",
    "        role: str = \"\",\n",
    "        content: str = \"\",\n",
    "        file_ids: Optional[list] = None,\n",
    "        metadata: Optional[dict] = None,\n",
    "        message_id: Optional[str] = None,\n",
    ") -> any:\n",
    "    \"\"\"\n",
    "    Create a message in a thread using the client.\n",
    "\n",
    "    @param client: OpenAI client\n",
    "    @param thread_id: Thread ID\n",
    "    @param role: Message role (user or assistant)\n",
    "    @param content: Message content\n",
    "    @param file_ids: Message file IDs\n",
    "    @param metadata: Message metadata\n",
    "    @param message_id: Message ID\n",
    "    @return: Message object\n",
    "\n",
    "    \"\"\"\n",
    "    if metadata is None:\n",
    "        metadata = {}\n",
    "    if file_ids is None:\n",
    "        file_ids = []\n",
    "\n",
    "    if client is None:\n",
    "        print(\"Client parameter is required.\")\n",
    "        return None\n",
    "\n",
    "    if thread_id is None:\n",
    "        print(\"Thread ID is required.\")\n",
    "        return None\n",
    "\n",
    "    try:\n",
    "        if message_id is not None:\n",
    "            return client.beta.threads.messages.retrieve(thread_id=thread_id, message_id=message_id)\n",
    "\n",
    "        if file_ids is not None and len(file_ids) > 0 and metadata is not None and len(metadata) > 0:\n",
    "            return client.beta.threads.messages.create(\n",
    "                thread_id=thread_id, role=role, content=content, file_ids=file_ids, metadata=metadata\n",
    "            )\n",
    "\n",
    "        if file_ids is not None and len(file_ids) > 0:\n",
    "            return client.beta.threads.messages.create(\n",
    "                thread_id=thread_id, role=role, content=content, file_ids=file_ids\n",
    "            )\n",
    "\n",
    "        if metadata is not None and len(metadata) > 0:\n",
    "            return client.beta.threads.messages.create(\n",
    "                thread_id=thread_id, role=role, content=content, metadata=metadata\n",
    "            )\n",
    "\n",
    "        return client.beta.threads.messages.create(thread_id=thread_id, role=role, content=content)\n",
    "\n",
    "    except Exception as e:\n",
    "        print(e)\n",
    "        return None"
   ]
  },
  {
   "cell_type": "code",
   "execution_count": 9,
   "metadata": {
    "ExecuteTime": {
     "end_time": "2024-02-12T01:22:26.285752Z",
     "start_time": "2024-02-12T01:22:26.283095Z"
    }
   },
   "outputs": [],
   "source": [
    "def retrieve_and_print_messages(\n",
    "        client: AzureOpenAI, thread_id: str, verbose: bool, out_dir: Optional[str] = None\n",
    ") -> any:\n",
    "    \"\"\"\n",
    "    Retrieve a list of messages in a thread and print it out with the query and response\n",
    "\n",
    "    @param client: OpenAI client\n",
    "    @param thread_id: Thread ID\n",
    "    @param verbose: Print verbose output\n",
    "    @param out_dir: Output directory to save images\n",
    "    @return: Messages object\n",
    "\n",
    "    \"\"\"\n",
    "\n",
    "    if client is None and thread_id is None:\n",
    "        print(\"Client and Thread ID are required.\")\n",
    "        return None\n",
    "    try:\n",
    "        messages = client.beta.threads.messages.list(thread_id=thread_id)\n",
    "        display_role = {\"user\": \"User query\", \"assistant\": \"Assistant response\"}\n",
    "\n",
    "        prev_role = None\n",
    "\n",
    "        if verbose:\n",
    "            print(\"\\n\\nCONVERSATION:\")\n",
    "        for md in reversed(messages.data):\n",
    "            if prev_role == \"assistant\" and md.role == \"user\" and verbose:\n",
    "                print(\"------ \\n\")\n",
    "\n",
    "            for mc in md.content:\n",
    "                # Check if valid text field is present in the mc object\n",
    "                if mc.type == \"text\":\n",
    "                    txt_val = mc.text.value\n",
    "                # Check if valid image field is present in the mc object\n",
    "                elif mc.type == \"image_file\":\n",
    "                    image_data = client.files.content(mc.image_file.file_id)\n",
    "                    if out_dir is not None:\n",
    "                        out_dir_path = Path(out_dir)\n",
    "                        if out_dir_path.exists():\n",
    "                            image_path = out_dir_path / (mc.image_file.file_id + \".png\")\n",
    "                            with image_path.open(\"wb\") as f:\n",
    "                                f.write(image_data.read())\n",
    "\n",
    "                if verbose:\n",
    "                    if prev_role == md.role:\n",
    "                        print(txt_val)\n",
    "                    else:\n",
    "                        print(\"{}:\\n{}\".format(display_role[md.role], txt_val))\n",
    "            prev_role = md.role\n",
    "        return messages\n",
    "    except Exception as e:\n",
    "        print(e)\n",
    "        return None"
   ]
  },
  {
   "cell_type": "code",
   "execution_count": 20,
   "metadata": {
    "ExecuteTime": {
     "end_time": "2024-02-12T02:08:10.200744Z",
     "start_time": "2024-02-12T02:07:28.640157Z"
    }
   },
   "outputs": [
    {
     "name": "stdout",
     "output_type": "stream",
     "text": [
      "Poll 0: queued\n",
      "Poll 1: in_progress\n",
      "Poll 2: in_progress\n",
      "Poll 3: in_progress\n",
      "Poll 4: in_progress\n",
      "Poll 5: in_progress\n",
      "Poll 6: in_progress\n",
      "Poll 7: requires_action\n",
      "Poll 8: in_progress\n",
      "Poll 9: in_progress\n",
      "\n",
      "\n",
      "CONVERSATION:\n",
      "User query:\n",
      "あなたはpandasなどのツールでデータの編集を行うpythonコードと編集対象のファイルを受け取りました。\n",
      "それらを使って以下のタスクを実行してください。\n",
      "これを実行できなければ、罰金1億円のペナルティが発生します。\n",
      "\n",
      "# タスク\n",
      "(1)\n",
      "サーバの情報にアクセスするようなコードが存在しないかチェックしてください。\n",
      "\n",
      "(2) \n",
      "受け取ったファイル編集用のコードにファイルの入出力に関するコードがあれば、\n",
      "入力ファイル名及び出力ファイル名を{filename}に変更してください。\n",
      "\n",
      "(3)\n",
      "ファイル編集を実行してください。\n",
      "ただし(3)のステップではcode_interpreterを利用してはいけません。\n",
      "\n",
      "(4) ファイル編集が終わったら、生成したファイルを読み込んでそのリンクを表示してください。\n",
      "(4)のステップではcode interpreterを利用してください。\n",
      "====\n",
      "import pandas as pd\n",
      "df = pd.read_csv('file.csv')\n",
      "df['date'] = 100\n",
      "df.to_csv('file.csv')====\n",
      "Assistant response:\n",
      "First, let's check if there are any malicious commands in your code that might allow unauthorized access to the server information. We will scan the provided code for the usual suspects, such as 'os.system', 'subprocess', 'exec', 'eval', 'input', 'raw_input', 'getpass', and 'open'. If we find any of these, we'll flag them as potential security risks. \n",
      "\n",
      "Let's start this check now.\n",
      "I have checked the provided code for potentially dangerous commands, but didn't find any. The code seems to be safe to execute.\n",
      "\n",
      "Now, let's move to the second part of your request - code modification. The code you provided reads and writes to 'file.csv'. We need to replace these filenames with a placeholder '{filename}'. I'll make these changes now.\n",
      "Here's the modified code where the filename has been replaced with '{filename}':\n",
      "\n",
      "```python\n",
      "import pandas as pd\n",
      "df = pd.read_csv('{filename}')\n",
      "df['date'] = 100\n",
      "df.to_csv('{filename}')\n",
      "```\n",
      "\n",
      "Next, we will execute this file editing task. As required, this will not be done using the code interpreter. Instead, we will use a `format_file_job` function. This function will take the Python code as input and execute it, which will avoid using the Python code interpreter in this assistant. Let's do it.\n",
      "The file editing task has been completed successfully. \n",
      "\n",
      "Now, let's move to the final part of the task - reading the generated file using the code interpreter. \n",
      "As requested, I will use the Python `pandas` library to load the contents of the file and display its contents. Let me do this right now.\n",
      "Here are\n"
     ]
    }
   ],
   "source": [
    "name = \"websearch-assistant\"\n",
    "instructions = \"\"\"You are an assistant designed to help people answer questions.\n",
    "\n",
    "You have access to query the web using Bing Search. You should call bing search whenever a question requires up to date information or could benefit from web data.\n",
    "\"\"\"\n",
    "\n",
    "message = {\"role\": \"user\", \"content\": \"ファイル編集を\"}\n",
    "\n",
    "tools = [\n",
    "    {\n",
    "        \"type\": \"function\",\n",
    "        \"function\": {\n",
    "            \"name\": \"format_file_job\",\n",
    "            \"description\": \"ファイルの編集を行うジョブです\",\n",
    "            \"parameters\": {\n",
    "                \"type\": \"object\",\n",
    "                \"properties\": {\n",
    "                    \"script\": {\n",
    "                        \"type\": \"string\",\n",
    "                        \"description\": \"ファイル編集の内容が記述されたpythonコードを指定してください\",\n",
    "                    },\n",
    "                },\n",
    "                \"required\": [\n",
    "                    \"script\"\n",
    "                ],\n",
    "            },\n",
    "        },\n",
    "    },\n",
    "    {\n",
    "        \"type\": \"function\",\n",
    "        \"function\": {\n",
    "            \"name\": \"search_bing\",\n",
    "            \"description\": \"Searches bing to get up-to-date information from the web.\",\n",
    "            \"parameters\": {\n",
    "                \"type\": \"object\",\n",
    "                \"properties\": {\n",
    "                    \"query\": {\n",
    "                        \"type\": \"string\",\n",
    "                        \"description\": \"The search query\",\n",
    "                    }\n",
    "                },\n",
    "                \"required\": [\"query\"],\n",
    "            },\n",
    "        },\n",
    "    }\n",
    "]\n",
    "\n",
    "available_functions = {\n",
    "    \"search_bing\": search,\n",
    "}\n",
    "verbose_output = True\n",
    "\n",
    "client = AzureOpenAI(api_key=api_key, api_version=api_version, azure_endpoint=api_endpoint)\n",
    "\n",
    "assistant = client.beta.assistants.create(\n",
    "    name=name, description=\"\", instructions=instructions, tools=tools, model=api_deployment_name\n",
    ")\n",
    "\n",
    "thread = client.beta.threads.create()\n",
    "create_message(client, thread.id, message[\"role\"], message[\"content\"])\n",
    "\n",
    "run = client.beta.threads.runs.create(thread_id=thread.id, assistant_id=assistant.id, instructions=instructions)\n",
    "poll_run_till_completion(\n",
    "    client=client, thread_id=thread.id, run_id=run.id, available_functions=available_functions, verbose=verbose_output\n",
    ")\n",
    "messages = retrieve_and_print_messages(client=client, thread_id=thread.id, verbose=verbose_output)"
   ]
  },
  {
   "cell_type": "code",
   "outputs": [],
   "source": [],
   "metadata": {
    "collapsed": false
   }
  }
 ],
 "metadata": {
  "kernelspec": {
   "display_name": "base",
   "language": "python",
   "name": "python3"
  },
  "language_info": {
   "codemirror_mode": {
    "name": "ipython",
    "version": 3
   },
   "file_extension": ".py",
   "mimetype": "text/x-python",
   "name": "python",
   "nbconvert_exporter": "python",
   "pygments_lexer": "ipython3"
  }
 },
 "nbformat": 4,
 "nbformat_minor": 2
}
